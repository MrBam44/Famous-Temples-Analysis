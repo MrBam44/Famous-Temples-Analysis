{
 "cells": [
  {
   "cell_type": "markdown",
   "id": "918f0f07",
   "metadata": {},
   "source": [
    "# Famous Temples of India: State Wise"
   ]
  },
  {
   "cell_type": "markdown",
   "id": "411f183c",
   "metadata": {},
   "source": [
    "India being part of the world’s oldest civilizations is a land of rich history, countless beliefs, traditions and legends surrounding the religions. India takes pride in the country’s rich cultural and religious history as it is the birth land of the traditions of Hinduism, Jainism, Buddhism and Sikhism. India is a land where people of different religious beliefs live in harmony and brotherhood. Hinduism is believed to be the world’s oldest religion. Unlike other religions, Hinduism does not have a founder but is instead a fusion of religions. Various ancient manuscripts and scholars describe the religion as a traditional way of living, a religion whose beginning and ending cannot be traced."
   ]
  },
  {
   "cell_type": "markdown",
   "id": "ef3ef20d",
   "metadata": {},
   "source": [
    "The heavenly abode of the Almighty on Earth is referred to as ‘Mandir’ by the Hindus. You will find majestic temples at mostly every corner of the country. Every temple has a unique history and legend attached to it. During the ancient times, the Indian rulers would patronize artists and sculptures for creating exceptional masterpieces in the form of temples under their reign. Tour My India introduces you to some of the most popular and magnificent temples of the country."
   ]
  },
  {
   "cell_type": "code",
   "execution_count": 1,
   "id": "374fc66d",
   "metadata": {},
   "outputs": [],
   "source": [
    "import pandas as pd \n",
    "import numpy as np\n",
    "import matplotlib.pyplot as plt\n",
    "import seaborn as sns\n",
    "import warnings\n",
    "warnings.filterwarnings('ignore')"
   ]
  },
  {
   "cell_type": "markdown",
   "id": "bce7bd52",
   "metadata": {},
   "source": [
    "# List of Most Popular Temples in India"
   ]
  },
  {
   "cell_type": "code",
   "execution_count": 2,
   "id": "b67107a9",
   "metadata": {},
   "outputs": [
    {
     "data": {
      "text/html": [
       "<div>\n",
       "<style scoped>\n",
       "    .dataframe tbody tr th:only-of-type {\n",
       "        vertical-align: middle;\n",
       "    }\n",
       "\n",
       "    .dataframe tbody tr th {\n",
       "        vertical-align: top;\n",
       "    }\n",
       "\n",
       "    .dataframe thead th {\n",
       "        text-align: right;\n",
       "    }\n",
       "</style>\n",
       "<table border=\"1\" class=\"dataframe\">\n",
       "  <thead>\n",
       "    <tr style=\"text-align: right;\">\n",
       "      <th></th>\n",
       "      <th>templeName</th>\n",
       "      <th>Description</th>\n",
       "      <th>Location</th>\n",
       "      <th>Coordinates</th>\n",
       "      <th>DistanceFromMumbai(Km)</th>\n",
       "      <th>DistanceFromNewDelhi(Km)</th>\n",
       "      <th>DistanceFromChennai(Km)</th>\n",
       "      <th>DistanceFromKolkata(Km)</th>\n",
       "    </tr>\n",
       "  </thead>\n",
       "  <tbody>\n",
       "    <tr>\n",
       "      <th>0</th>\n",
       "      <td>Badrinath Temple | Badrinath, Uttarakhand</td>\n",
       "      <td>The Badrinath temple also known as Badrinaraya...</td>\n",
       "      <td>Badrinath</td>\n",
       "      <td>(30.7423302, 79.4930256)</td>\n",
       "      <td>1454.013555</td>\n",
       "      <td>323.309362</td>\n",
       "      <td>1957.065909</td>\n",
       "      <td>1265.717344</td>\n",
       "    </tr>\n",
       "    <tr>\n",
       "      <th>1</th>\n",
       "      <td>Kedarnath Temple | Kedarnath, Uttarakhand</td>\n",
       "      <td>Located at the highest altitude among the Char...</td>\n",
       "      <td>Kedarnath</td>\n",
       "      <td>(30.7345609, 79.0673204)</td>\n",
       "      <td>1434.105557</td>\n",
       "      <td>295.986734</td>\n",
       "      <td>1958.477211</td>\n",
       "      <td>1294.937834</td>\n",
       "    </tr>\n",
       "    <tr>\n",
       "      <th>2</th>\n",
       "      <td>Gangotri Temple | Gangotri, Uttarakhand</td>\n",
       "      <td>The birthplace of the holy River Ganges is in ...</td>\n",
       "      <td>Gangotri</td>\n",
       "      <td>(30.9943684, 78.9398699)</td>\n",
       "      <td>1454.357504</td>\n",
       "      <td>312.443007</td>\n",
       "      <td>1988.071223</td>\n",
       "      <td>1323.391443</td>\n",
       "    </tr>\n",
       "    <tr>\n",
       "      <th>3</th>\n",
       "      <td>Yamunotri Temple | Yamunotri, Uttarakhand</td>\n",
       "      <td>Located opposite to Gangotri is the sacred shr...</td>\n",
       "      <td>Yamunotri</td>\n",
       "      <td>(30.999214, 78.4626951)</td>\n",
       "      <td>1435.376936</td>\n",
       "      <td>290.856707</td>\n",
       "      <td>1992.566060</td>\n",
       "      <td>1357.610477</td>\n",
       "    </tr>\n",
       "    <tr>\n",
       "      <th>4</th>\n",
       "      <td>Har Ki Pauri | Haridwar, Uttarakhand</td>\n",
       "      <td>As one of the oldest living cities of India, H...</td>\n",
       "      <td>Haridwar</td>\n",
       "      <td>(29.9384473, 78.1452985)</td>\n",
       "      <td>1315.804055</td>\n",
       "      <td>172.720329</td>\n",
       "      <td>1879.124748</td>\n",
       "      <td>1307.563971</td>\n",
       "    </tr>\n",
       "    <tr>\n",
       "      <th>5</th>\n",
       "      <td>Neelkanth Mahadev Temple | Rishikesh, Uttarakhand</td>\n",
       "      <td>Located on the outskirts of Rishikesh atop a h...</td>\n",
       "      <td>Rishikesh</td>\n",
       "      <td>(30.1086537, 78.2916193)</td>\n",
       "      <td>1338.886773</td>\n",
       "      <td>196.212348</td>\n",
       "      <td>1896.168912</td>\n",
       "      <td>1307.628308</td>\n",
       "    </tr>\n",
       "    <tr>\n",
       "      <th>6</th>\n",
       "      <td>Naina Devi Temple | Nainital, Uttarakhand</td>\n",
       "      <td>Nainital is named after Naina Devi. It is cons...</td>\n",
       "      <td>Nainital</td>\n",
       "      <td>(29.29478295, 79.41548093726253)</td>\n",
       "      <td>1311.661936</td>\n",
       "      <td>227.940519</td>\n",
       "      <td>1797.144168</td>\n",
       "      <td>1166.409791</td>\n",
       "    </tr>\n",
       "    <tr>\n",
       "      <th>7</th>\n",
       "      <td>Kashi Vishwanath Temple | Varanasi, Uttar Pradesh</td>\n",
       "      <td>Kashi Vishwanath Temple is located on the bank...</td>\n",
       "      <td>Varanasi</td>\n",
       "      <td>(25.3356491, 83.0076292)</td>\n",
       "      <td>1252.806685</td>\n",
       "      <td>680.529871</td>\n",
       "      <td>1386.323612</td>\n",
       "      <td>626.321884</td>\n",
       "    </tr>\n",
       "    <tr>\n",
       "      <th>8</th>\n",
       "      <td>Golden Temple | Amritsar, Punjab</td>\n",
       "      <td>The Harmandir Sahib also popularly known as th...</td>\n",
       "      <td>Amritsar</td>\n",
       "      <td>(31.6343083, 74.8736788)</td>\n",
       "      <td>1405.563660</td>\n",
       "      <td>403.397370</td>\n",
       "      <td>2127.235970</td>\n",
       "      <td>1671.864818</td>\n",
       "    </tr>\n",
       "    <tr>\n",
       "      <th>9</th>\n",
       "      <td>Amarnath Temple | Pahalgam, Jammu &amp; Kashmir</td>\n",
       "      <td>Located at an impressive altitude of 3888m, 14...</td>\n",
       "      <td>Pahalgam</td>\n",
       "      <td>(34.01508585, 75.32677908158541)</td>\n",
       "      <td>1672.977247</td>\n",
       "      <td>625.045311</td>\n",
       "      <td>2371.725669</td>\n",
       "      <td>1799.862219</td>\n",
       "    </tr>\n",
       "  </tbody>\n",
       "</table>\n",
       "</div>"
      ],
      "text/plain": [
       "                                          templeName  \\\n",
       "0          Badrinath Temple | Badrinath, Uttarakhand   \n",
       "1          Kedarnath Temple | Kedarnath, Uttarakhand   \n",
       "2            Gangotri Temple | Gangotri, Uttarakhand   \n",
       "3          Yamunotri Temple | Yamunotri, Uttarakhand   \n",
       "4               Har Ki Pauri | Haridwar, Uttarakhand   \n",
       "5  Neelkanth Mahadev Temple | Rishikesh, Uttarakhand   \n",
       "6          Naina Devi Temple | Nainital, Uttarakhand   \n",
       "7  Kashi Vishwanath Temple | Varanasi, Uttar Pradesh   \n",
       "8                   Golden Temple | Amritsar, Punjab   \n",
       "9        Amarnath Temple | Pahalgam, Jammu & Kashmir   \n",
       "\n",
       "                                         Description    Location  \\\n",
       "0  The Badrinath temple also known as Badrinaraya...   Badrinath   \n",
       "1  Located at the highest altitude among the Char...   Kedarnath   \n",
       "2  The birthplace of the holy River Ganges is in ...    Gangotri   \n",
       "3  Located opposite to Gangotri is the sacred shr...   Yamunotri   \n",
       "4  As one of the oldest living cities of India, H...    Haridwar   \n",
       "5  Located on the outskirts of Rishikesh atop a h...   Rishikesh   \n",
       "6  Nainital is named after Naina Devi. It is cons...    Nainital   \n",
       "7  Kashi Vishwanath Temple is located on the bank...    Varanasi   \n",
       "8  The Harmandir Sahib also popularly known as th...    Amritsar   \n",
       "9  Located at an impressive altitude of 3888m, 14...    Pahalgam   \n",
       "\n",
       "                        Coordinates  DistanceFromMumbai(Km)  \\\n",
       "0          (30.7423302, 79.4930256)             1454.013555   \n",
       "1          (30.7345609, 79.0673204)             1434.105557   \n",
       "2          (30.9943684, 78.9398699)             1454.357504   \n",
       "3           (30.999214, 78.4626951)             1435.376936   \n",
       "4          (29.9384473, 78.1452985)             1315.804055   \n",
       "5          (30.1086537, 78.2916193)             1338.886773   \n",
       "6  (29.29478295, 79.41548093726253)             1311.661936   \n",
       "7          (25.3356491, 83.0076292)             1252.806685   \n",
       "8          (31.6343083, 74.8736788)             1405.563660   \n",
       "9  (34.01508585, 75.32677908158541)             1672.977247   \n",
       "\n",
       "   DistanceFromNewDelhi(Km)  DistanceFromChennai(Km)  DistanceFromKolkata(Km)  \n",
       "0                323.309362              1957.065909              1265.717344  \n",
       "1                295.986734              1958.477211              1294.937834  \n",
       "2                312.443007              1988.071223              1323.391443  \n",
       "3                290.856707              1992.566060              1357.610477  \n",
       "4                172.720329              1879.124748              1307.563971  \n",
       "5                196.212348              1896.168912              1307.628308  \n",
       "6                227.940519              1797.144168              1166.409791  \n",
       "7                680.529871              1386.323612               626.321884  \n",
       "8                403.397370              2127.235970              1671.864818  \n",
       "9                625.045311              2371.725669              1799.862219  "
      ]
     },
     "execution_count": 2,
     "metadata": {},
     "output_type": "execute_result"
    }
   ],
   "source": [
    "temple_data = pd.read_csv(\"temples.csv\")\n",
    "temple_data.head(10)"
   ]
  },
  {
   "cell_type": "code",
   "execution_count": 3,
   "id": "539e28b3",
   "metadata": {},
   "outputs": [
    {
     "data": {
      "text/html": [
       "<div>\n",
       "<style scoped>\n",
       "    .dataframe tbody tr th:only-of-type {\n",
       "        vertical-align: middle;\n",
       "    }\n",
       "\n",
       "    .dataframe tbody tr th {\n",
       "        vertical-align: top;\n",
       "    }\n",
       "\n",
       "    .dataframe thead th {\n",
       "        text-align: right;\n",
       "    }\n",
       "</style>\n",
       "<table border=\"1\" class=\"dataframe\">\n",
       "  <thead>\n",
       "    <tr style=\"text-align: right;\">\n",
       "      <th></th>\n",
       "      <th>templeName</th>\n",
       "      <th>Description</th>\n",
       "      <th>Location</th>\n",
       "      <th>Coordinates</th>\n",
       "      <th>DistanceFromMumbai(Km)</th>\n",
       "      <th>DistanceFromNewDelhi(Km)</th>\n",
       "      <th>DistanceFromChennai(Km)</th>\n",
       "      <th>DistanceFromKolkata(Km)</th>\n",
       "    </tr>\n",
       "  </thead>\n",
       "  <tbody>\n",
       "    <tr>\n",
       "      <th>43</th>\n",
       "      <td>Ranganathaswamy Temple | Srirangam, Tamil Nadu</td>\n",
       "      <td>Sri Ranganathaswamy temple located in Sriranga...</td>\n",
       "      <td>Srirangam</td>\n",
       "      <td>(10.78789595, 78.61240704407285)</td>\n",
       "      <td>1104.938884</td>\n",
       "      <td>1978.888316</td>\n",
       "      <td>311.612450</td>\n",
       "      <td>1663.617734</td>\n",
       "    </tr>\n",
       "    <tr>\n",
       "      <th>44</th>\n",
       "      <td>Meenakshi Temple | Madurai, Tamil Nadu</td>\n",
       "      <td>Located in the temple city of Madurai on the b...</td>\n",
       "      <td>Madurai</td>\n",
       "      <td>(9.9261153, 78.1140983)</td>\n",
       "      <td>1158.782925</td>\n",
       "      <td>2070.953907</td>\n",
       "      <td>421.088784</td>\n",
       "      <td>1772.572186</td>\n",
       "    </tr>\n",
       "    <tr>\n",
       "      <th>45</th>\n",
       "      <td>Ramanathaswamy Temple | Rameshwaram, Tamil Nadu</td>\n",
       "      <td>Rameshwaram is a small island connected to the...</td>\n",
       "      <td>Rameshwaram</td>\n",
       "      <td>(9.2844657, 79.3125553)</td>\n",
       "      <td>1286.400444</td>\n",
       "      <td>2151.056161</td>\n",
       "      <td>433.071552</td>\n",
       "      <td>1756.408596</td>\n",
       "    </tr>\n",
       "    <tr>\n",
       "      <th>46</th>\n",
       "      <td>Shore Temple | Mahabalipuram, Tamil Nadu</td>\n",
       "      <td>Located on the shore of the Coromandel Coast o...</td>\n",
       "      <td>Mahabalipuram</td>\n",
       "      <td>(12.6195981, 80.1936497)</td>\n",
       "      <td>1060.061937</td>\n",
       "      <td>1797.718176</td>\n",
       "      <td>52.010385</td>\n",
       "      <td>1397.992332</td>\n",
       "    </tr>\n",
       "    <tr>\n",
       "      <th>47</th>\n",
       "      <td>Sripuram Golden Temple | Vellore, Tamil Nadu</td>\n",
       "      <td>Stretched across 100 acres the Golden Temple a...</td>\n",
       "      <td>Vellore</td>\n",
       "      <td>(12.7948109, 79.0006410968549)</td>\n",
       "      <td>955.184773</td>\n",
       "      <td>1761.292111</td>\n",
       "      <td>141.417934</td>\n",
       "      <td>1464.934193</td>\n",
       "    </tr>\n",
       "    <tr>\n",
       "      <th>48</th>\n",
       "      <td>Brihadeshwara Temple | Thanjavur, Tamil Nadu</td>\n",
       "      <td>The Brihadeshwara Temple is a masterpiece and ...</td>\n",
       "      <td>Thanjavur</td>\n",
       "      <td>(10.7860267, 79.1381497)</td>\n",
       "      <td>1137.587824</td>\n",
       "      <td>1983.899883</td>\n",
       "      <td>282.501204</td>\n",
       "      <td>1629.496644</td>\n",
       "    </tr>\n",
       "    <tr>\n",
       "      <th>49</th>\n",
       "      <td>Chennakesava Temple | Belur, Karnataka</td>\n",
       "      <td>A stunner from the Hoysala period, the Chennak...</td>\n",
       "      <td>Belur</td>\n",
       "      <td>(22.6357323, 88.3398223)</td>\n",
       "      <td>1655.768411</td>\n",
       "      <td>1298.336126</td>\n",
       "      <td>1359.013182</td>\n",
       "      <td>10.604555</td>\n",
       "    </tr>\n",
       "    <tr>\n",
       "      <th>50</th>\n",
       "      <td>Thillai Nataraja Temple | Chidambaram, Tamil Nadu</td>\n",
       "      <td>The Chidambaram Temple is dedicated to Lord Sh...</td>\n",
       "      <td>Chidambaram</td>\n",
       "      <td>(11.41018075, 79.67222017841891)</td>\n",
       "      <td>1118.630771</td>\n",
       "      <td>1921.816741</td>\n",
       "      <td>196.229639</td>\n",
       "      <td>1539.369798</td>\n",
       "    </tr>\n",
       "    <tr>\n",
       "      <th>51</th>\n",
       "      <td>Annamalaiyer Temple | Thiruvannamalai, Tamil Nadu</td>\n",
       "      <td>Located at the base of Annamalai Hills in Thir...</td>\n",
       "      <td>Thiruvannamalai</td>\n",
       "      <td>(9.539867, 77.6197904)</td>\n",
       "      <td>1172.319138</td>\n",
       "      <td>2111.952088</td>\n",
       "      <td>487.198055</td>\n",
       "      <td>1839.342146</td>\n",
       "    </tr>\n",
       "    <tr>\n",
       "      <th>52</th>\n",
       "      <td>Kailashanatha Temple | Kanchipuram, Tamil Nadu</td>\n",
       "      <td>Built under the patronage of the Pallava ruler...</td>\n",
       "      <td>Kanchipuram</td>\n",
       "      <td>(12.836393, 79.7053304)</td>\n",
       "      <td>1005.176537</td>\n",
       "      <td>1765.937298</td>\n",
       "      <td>67.117235</td>\n",
       "      <td>1411.945496</td>\n",
       "    </tr>\n",
       "  </tbody>\n",
       "</table>\n",
       "</div>"
      ],
      "text/plain": [
       "                                           templeName  \\\n",
       "43     Ranganathaswamy Temple | Srirangam, Tamil Nadu   \n",
       "44             Meenakshi Temple | Madurai, Tamil Nadu   \n",
       "45    Ramanathaswamy Temple | Rameshwaram, Tamil Nadu   \n",
       "46           Shore Temple | Mahabalipuram, Tamil Nadu   \n",
       "47       Sripuram Golden Temple | Vellore, Tamil Nadu   \n",
       "48       Brihadeshwara Temple | Thanjavur, Tamil Nadu   \n",
       "49             Chennakesava Temple | Belur, Karnataka   \n",
       "50  Thillai Nataraja Temple | Chidambaram, Tamil Nadu   \n",
       "51  Annamalaiyer Temple | Thiruvannamalai, Tamil Nadu   \n",
       "52     Kailashanatha Temple | Kanchipuram, Tamil Nadu   \n",
       "\n",
       "                                          Description          Location  \\\n",
       "43  Sri Ranganathaswamy temple located in Sriranga...         Srirangam   \n",
       "44  Located in the temple city of Madurai on the b...           Madurai   \n",
       "45  Rameshwaram is a small island connected to the...       Rameshwaram   \n",
       "46  Located on the shore of the Coromandel Coast o...     Mahabalipuram   \n",
       "47  Stretched across 100 acres the Golden Temple a...           Vellore   \n",
       "48  The Brihadeshwara Temple is a masterpiece and ...         Thanjavur   \n",
       "49  A stunner from the Hoysala period, the Chennak...             Belur   \n",
       "50  The Chidambaram Temple is dedicated to Lord Sh...       Chidambaram   \n",
       "51  Located at the base of Annamalai Hills in Thir...   Thiruvannamalai   \n",
       "52  Built under the patronage of the Pallava ruler...       Kanchipuram   \n",
       "\n",
       "                         Coordinates  DistanceFromMumbai(Km)  \\\n",
       "43  (10.78789595, 78.61240704407285)             1104.938884   \n",
       "44           (9.9261153, 78.1140983)             1158.782925   \n",
       "45           (9.2844657, 79.3125553)             1286.400444   \n",
       "46          (12.6195981, 80.1936497)             1060.061937   \n",
       "47    (12.7948109, 79.0006410968549)              955.184773   \n",
       "48          (10.7860267, 79.1381497)             1137.587824   \n",
       "49          (22.6357323, 88.3398223)             1655.768411   \n",
       "50  (11.41018075, 79.67222017841891)             1118.630771   \n",
       "51            (9.539867, 77.6197904)             1172.319138   \n",
       "52           (12.836393, 79.7053304)             1005.176537   \n",
       "\n",
       "    DistanceFromNewDelhi(Km)  DistanceFromChennai(Km)  DistanceFromKolkata(Km)  \n",
       "43               1978.888316               311.612450              1663.617734  \n",
       "44               2070.953907               421.088784              1772.572186  \n",
       "45               2151.056161               433.071552              1756.408596  \n",
       "46               1797.718176                52.010385              1397.992332  \n",
       "47               1761.292111               141.417934              1464.934193  \n",
       "48               1983.899883               282.501204              1629.496644  \n",
       "49               1298.336126              1359.013182                10.604555  \n",
       "50               1921.816741               196.229639              1539.369798  \n",
       "51               2111.952088               487.198055              1839.342146  \n",
       "52               1765.937298                67.117235              1411.945496  "
      ]
     },
     "execution_count": 3,
     "metadata": {},
     "output_type": "execute_result"
    }
   ],
   "source": [
    "temple_data.tail(10)"
   ]
  },
  {
   "cell_type": "code",
   "execution_count": 4,
   "id": "8e0f202e",
   "metadata": {},
   "outputs": [
    {
     "data": {
      "text/plain": [
       "(53, 8)"
      ]
     },
     "execution_count": 4,
     "metadata": {},
     "output_type": "execute_result"
    }
   ],
   "source": [
    "temple_data.shape"
   ]
  },
  {
   "cell_type": "code",
   "execution_count": 5,
   "id": "1d972f43",
   "metadata": {},
   "outputs": [
    {
     "data": {
      "text/plain": [
       "Index(['templeName', 'Description', 'Location', 'Coordinates',\n",
       "       'DistanceFromMumbai(Km)', 'DistanceFromNewDelhi(Km)',\n",
       "       'DistanceFromChennai(Km)', 'DistanceFromKolkata(Km)'],\n",
       "      dtype='object')"
      ]
     },
     "execution_count": 5,
     "metadata": {},
     "output_type": "execute_result"
    }
   ],
   "source": [
    "temple_data.columns"
   ]
  },
  {
   "cell_type": "code",
   "execution_count": 6,
   "id": "c2a4a9c4",
   "metadata": {},
   "outputs": [
    {
     "name": "stdout",
     "output_type": "stream",
     "text": [
      "<class 'pandas.core.frame.DataFrame'>\n",
      "RangeIndex: 53 entries, 0 to 52\n",
      "Data columns (total 8 columns):\n",
      " #   Column                    Non-Null Count  Dtype  \n",
      "---  ------                    --------------  -----  \n",
      " 0   templeName                53 non-null     object \n",
      " 1   Description               53 non-null     object \n",
      " 2   Location                  52 non-null     object \n",
      " 3   Coordinates               53 non-null     object \n",
      " 4   DistanceFromMumbai(Km)    53 non-null     float64\n",
      " 5   DistanceFromNewDelhi(Km)  53 non-null     float64\n",
      " 6   DistanceFromChennai(Km)   53 non-null     float64\n",
      " 7   DistanceFromKolkata(Km)   53 non-null     float64\n",
      "dtypes: float64(4), object(4)\n",
      "memory usage: 3.4+ KB\n"
     ]
    }
   ],
   "source": [
    "temple_data.info()"
   ]
  },
  {
   "cell_type": "code",
   "execution_count": 7,
   "id": "0e99fa9c",
   "metadata": {},
   "outputs": [
    {
     "data": {
      "text/html": [
       "<div>\n",
       "<style scoped>\n",
       "    .dataframe tbody tr th:only-of-type {\n",
       "        vertical-align: middle;\n",
       "    }\n",
       "\n",
       "    .dataframe tbody tr th {\n",
       "        vertical-align: top;\n",
       "    }\n",
       "\n",
       "    .dataframe thead th {\n",
       "        text-align: right;\n",
       "    }\n",
       "</style>\n",
       "<table border=\"1\" class=\"dataframe\">\n",
       "  <thead>\n",
       "    <tr style=\"text-align: right;\">\n",
       "      <th></th>\n",
       "      <th>DistanceFromMumbai(Km)</th>\n",
       "      <th>DistanceFromNewDelhi(Km)</th>\n",
       "      <th>DistanceFromChennai(Km)</th>\n",
       "      <th>DistanceFromKolkata(Km)</th>\n",
       "    </tr>\n",
       "  </thead>\n",
       "  <tbody>\n",
       "    <tr>\n",
       "      <th>count</th>\n",
       "      <td>53.000000</td>\n",
       "      <td>53.000000</td>\n",
       "      <td>53.000000</td>\n",
       "      <td>53.000000</td>\n",
       "    </tr>\n",
       "    <tr>\n",
       "      <th>mean</th>\n",
       "      <td>1195.137153</td>\n",
       "      <td>1141.181755</td>\n",
       "      <td>1323.089894</td>\n",
       "      <td>1425.414973</td>\n",
       "    </tr>\n",
       "    <tr>\n",
       "      <th>std</th>\n",
       "      <td>844.276632</td>\n",
       "      <td>956.735097</td>\n",
       "      <td>1087.565648</td>\n",
       "      <td>971.889052</td>\n",
       "    </tr>\n",
       "    <tr>\n",
       "      <th>min</th>\n",
       "      <td>0.000000</td>\n",
       "      <td>0.000000</td>\n",
       "      <td>52.010385</td>\n",
       "      <td>0.000000</td>\n",
       "    </tr>\n",
       "    <tr>\n",
       "      <th>25%</th>\n",
       "      <td>851.545156</td>\n",
       "      <td>496.787727</td>\n",
       "      <td>487.198055</td>\n",
       "      <td>1294.937834</td>\n",
       "    </tr>\n",
       "    <tr>\n",
       "      <th>50%</th>\n",
       "      <td>1158.782925</td>\n",
       "      <td>1087.326052</td>\n",
       "      <td>1352.260203</td>\n",
       "      <td>1464.934193</td>\n",
       "    </tr>\n",
       "    <tr>\n",
       "      <th>75%</th>\n",
       "      <td>1405.563660</td>\n",
       "      <td>1668.348726</td>\n",
       "      <td>1797.144168</td>\n",
       "      <td>1671.864818</td>\n",
       "    </tr>\n",
       "    <tr>\n",
       "      <th>max</th>\n",
       "      <td>6345.522996</td>\n",
       "      <td>5987.434545</td>\n",
       "      <td>7374.452960</td>\n",
       "      <td>7275.959203</td>\n",
       "    </tr>\n",
       "  </tbody>\n",
       "</table>\n",
       "</div>"
      ],
      "text/plain": [
       "       DistanceFromMumbai(Km)  DistanceFromNewDelhi(Km)  \\\n",
       "count               53.000000                 53.000000   \n",
       "mean              1195.137153               1141.181755   \n",
       "std                844.276632                956.735097   \n",
       "min                  0.000000                  0.000000   \n",
       "25%                851.545156                496.787727   \n",
       "50%               1158.782925               1087.326052   \n",
       "75%               1405.563660               1668.348726   \n",
       "max               6345.522996               5987.434545   \n",
       "\n",
       "       DistanceFromChennai(Km)  DistanceFromKolkata(Km)  \n",
       "count                53.000000                53.000000  \n",
       "mean               1323.089894              1425.414973  \n",
       "std                1087.565648               971.889052  \n",
       "min                  52.010385                 0.000000  \n",
       "25%                 487.198055              1294.937834  \n",
       "50%                1352.260203              1464.934193  \n",
       "75%                1797.144168              1671.864818  \n",
       "max                7374.452960              7275.959203  "
      ]
     },
     "execution_count": 7,
     "metadata": {},
     "output_type": "execute_result"
    }
   ],
   "source": [
    "temple_data.describe()"
   ]
  },
  {
   "cell_type": "code",
   "execution_count": 8,
   "id": "6fa26f7a",
   "metadata": {},
   "outputs": [
    {
     "data": {
      "text/plain": [
       "templeName                  0\n",
       "Description                 0\n",
       "Location                    1\n",
       "Coordinates                 0\n",
       "DistanceFromMumbai(Km)      0\n",
       "DistanceFromNewDelhi(Km)    0\n",
       "DistanceFromChennai(Km)     0\n",
       "DistanceFromKolkata(Km)     0\n",
       "dtype: int64"
      ]
     },
     "execution_count": 8,
     "metadata": {},
     "output_type": "execute_result"
    }
   ],
   "source": [
    "temple_data.isnull().sum()"
   ]
  },
  {
   "cell_type": "code",
   "execution_count": 9,
   "id": "0271a397",
   "metadata": {},
   "outputs": [],
   "source": [
    "temple_data = temple_data.dropna()"
   ]
  },
  {
   "cell_type": "code",
   "execution_count": 10,
   "id": "e6cf5340",
   "metadata": {},
   "outputs": [
    {
     "data": {
      "text/plain": [
       "False"
      ]
     },
     "execution_count": 10,
     "metadata": {},
     "output_type": "execute_result"
    }
   ],
   "source": [
    "temple_data.isnull().any().any()"
   ]
  },
  {
   "cell_type": "code",
   "execution_count": 11,
   "id": "077f0a0e",
   "metadata": {},
   "outputs": [],
   "source": [
    "temple_data[\"State\"] = temple_data['templeName'].str.split(',', expand=True)[1]"
   ]
  },
  {
   "cell_type": "code",
   "execution_count": 12,
   "id": "f1e1c517",
   "metadata": {},
   "outputs": [
    {
     "data": {
      "text/plain": [
       "array([' Uttarakhand', ' Uttar Pradesh', ' Punjab', ' Jammu & Kashmir',\n",
       "       ' Delhi', ' Himachal Pradesh', ' Orissa', ' West Bengal', ' Assam',\n",
       "       ' Gujarat', ' Maharashtra', ' Rajasthan', ' Madhya Pradesh',\n",
       "       ' Andhra Pradesh', ' Karnataka', ' Kerala', ' Tamil Nadu'],\n",
       "      dtype=object)"
      ]
     },
     "execution_count": 12,
     "metadata": {},
     "output_type": "execute_result"
    }
   ],
   "source": [
    "temple_data.State.unique()"
   ]
  },
  {
   "cell_type": "code",
   "execution_count": 13,
   "id": "dd1a26d0",
   "metadata": {},
   "outputs": [
    {
     "data": {
      "text/plain": [
       " Tamil Nadu          9\n",
       " Uttarakhand         7\n",
       " Karnataka           5\n",
       " Delhi               4\n",
       " Orissa              4\n",
       " Jammu & Kashmir     3\n",
       " Gujarat             3\n",
       " Maharashtra         3\n",
       " Rajasthan           3\n",
       " West Bengal         2\n",
       " Madhya Pradesh      2\n",
       " Kerala              2\n",
       " Punjab              1\n",
       " Himachal Pradesh    1\n",
       " Uttar Pradesh       1\n",
       " Andhra Pradesh      1\n",
       " Assam               1\n",
       "Name: State, dtype: int64"
      ]
     },
     "execution_count": 13,
     "metadata": {},
     "output_type": "execute_result"
    }
   ],
   "source": [
    "temple_data.State.value_counts()"
   ]
  },
  {
   "cell_type": "code",
   "execution_count": 14,
   "id": "791a1dc8",
   "metadata": {},
   "outputs": [
    {
     "data": {
      "image/png": "[encoded data removed]",
      "text/plain": [
       "<Figure size 1080x432 with 1 Axes>"
      ]
     },
     "metadata": {
      "needs_background": "light"
     },
     "output_type": "display_data"
    }
   ],
   "source": [
    "plt.figure(figsize=(15, 6))\n",
    "sns.countplot('State', data=temple_data, palette='hls')\n",
    "plt.xticks(rotation= 45)\n",
    "plt.show()"
   ]
  },
  {
   "cell_type": "code",
   "execution_count": 15,
   "id": "b90642f8",
   "metadata": {},
   "outputs": [
    {
     "data": {
      "text/plain": [
       "array([' Badrinath', ' Kedarnath', ' Gangotri', ' Yamunotri', ' Haridwar',\n",
       "       ' Rishikesh', ' Nainital', ' Varanasi', ' Amritsar', ' Pahalgam',\n",
       "       ' Vaishno Devi', ' Srinagar', ' New Delhi', ' Kangra',\n",
       "       ' Bhubaneshwar', ' Puri', ' Kolkata', ' Guwahati', ' Dwarka',\n",
       "       ' Gandhinagar', ' Junagadh', ' Ahmednagar', ' Mumbai', ' Shirdi',\n",
       "       ' Nathdwara', ' Mount Abu', ' Ranakpur', ' Sanchi', ' Khajuraho',\n",
       "       ' Tirumala', ' Hampi', ' Mysore', ' Thiruvananthapuram',\n",
       "       ' Pathanamthitta', ' Srirangam', ' Madurai', ' Rameshwaram',\n",
       "       ' Mahabalipuram', ' Vellore', ' Thanjavur', ' Belur',\n",
       "       ' Chidambaram', ' Thiruvannamalai', ' Kanchipuram'], dtype=object)"
      ]
     },
     "execution_count": 15,
     "metadata": {},
     "output_type": "execute_result"
    }
   ],
   "source": [
    "temple_data.Location.unique()"
   ]
  },
  {
   "cell_type": "markdown",
   "id": "87d7f2b3",
   "metadata": {},
   "source": [
    "# TOP 4 citis having more than one famous temple in India"
   ]
  },
  {
   "cell_type": "code",
   "execution_count": 16,
   "id": "c584493b",
   "metadata": {},
   "outputs": [
    {
     "data": {
      "text/plain": [
       "<AxesSubplot:>"
      ]
     },
     "execution_count": 16,
     "metadata": {},
     "output_type": "execute_result"
    },
    {
     "data": {
      "image/png": "[encoded data removed]",
      "text/plain": [
       "<Figure size 432x288 with 1 Axes>"
      ]
     },
     "metadata": {
      "needs_background": "light"
     },
     "output_type": "display_data"
    }
   ],
   "source": [
    "temple_data['Location'].value_counts().head(4).sort_values().plot(kind='barh')"
   ]
  },
  {
   "cell_type": "code",
   "execution_count": 17,
   "id": "20d00312",
   "metadata": {},
   "outputs": [
    {
     "data": {
      "image/png": "[encoded data removed]",
      "text/plain": [
       "<Figure size 1080x432 with 1 Axes>"
      ]
     },
     "metadata": {
      "needs_background": "light"
     },
     "output_type": "display_data"
    }
   ],
   "source": [
    "plt.figure(figsize=(15, 6))\n",
    "sns.countplot(temple_data['Location'], data=temple_data, palette='hls')\n",
    "plt.xticks(rotation= 90)\n",
    "plt.show()"
   ]
  },
  {
   "cell_type": "markdown",
   "id": "bfd5e3d2",
   "metadata": {},
   "source": [
    "# if you live in any one of these cities ( Mumbai, Delhi, Chennai, Kolkata ) you can choose your nearest 10 temples by this function:"
   ]
  },
  {
   "cell_type": "code",
   "execution_count": 18,
   "id": "940590bb",
   "metadata": {},
   "outputs": [],
   "source": [
    "def temp(city):\n",
    "    return temple_data.sort_values(by=[city], ignore_index=True).loc[:, ['templeName', city]].head(10)"
   ]
  },
  {
   "cell_type": "markdown",
   "id": "5313f1fc",
   "metadata": {},
   "source": [
    "# top 10 nearest famous temples from New Delhi"
   ]
  },
  {
   "cell_type": "code",
   "execution_count": 19,
   "id": "d2134f10",
   "metadata": {},
   "outputs": [
    {
     "data": {
      "text/html": [
       "<div>\n",
       "<style scoped>\n",
       "    .dataframe tbody tr th:only-of-type {\n",
       "        vertical-align: middle;\n",
       "    }\n",
       "\n",
       "    .dataframe tbody tr th {\n",
       "        vertical-align: top;\n",
       "    }\n",
       "\n",
       "    .dataframe thead th {\n",
       "        text-align: right;\n",
       "    }\n",
       "</style>\n",
       "<table border=\"1\" class=\"dataframe\">\n",
       "  <thead>\n",
       "    <tr style=\"text-align: right;\">\n",
       "      <th></th>\n",
       "      <th>templeName</th>\n",
       "      <th>DistanceFromNewDelhi(Km)</th>\n",
       "    </tr>\n",
       "  </thead>\n",
       "  <tbody>\n",
       "    <tr>\n",
       "      <th>0</th>\n",
       "      <td>ISKON Temple | New Delhi, Delhi</td>\n",
       "      <td>0.000000</td>\n",
       "    </tr>\n",
       "    <tr>\n",
       "      <th>1</th>\n",
       "      <td>Birla Mandir | New Delhi, Delhi</td>\n",
       "      <td>0.000000</td>\n",
       "    </tr>\n",
       "    <tr>\n",
       "      <th>2</th>\n",
       "      <td>Akshardham Temple | New Delhi, Delhi</td>\n",
       "      <td>0.000000</td>\n",
       "    </tr>\n",
       "    <tr>\n",
       "      <th>3</th>\n",
       "      <td>Lotus Temple | New Delhi, Delhi</td>\n",
       "      <td>0.000000</td>\n",
       "    </tr>\n",
       "    <tr>\n",
       "      <th>4</th>\n",
       "      <td>Har Ki Pauri | Haridwar, Uttarakhand</td>\n",
       "      <td>172.720329</td>\n",
       "    </tr>\n",
       "    <tr>\n",
       "      <th>5</th>\n",
       "      <td>Neelkanth Mahadev Temple | Rishikesh, Uttarakhand</td>\n",
       "      <td>196.212348</td>\n",
       "    </tr>\n",
       "    <tr>\n",
       "      <th>6</th>\n",
       "      <td>Naina Devi Temple | Nainital, Uttarakhand</td>\n",
       "      <td>227.940519</td>\n",
       "    </tr>\n",
       "    <tr>\n",
       "      <th>7</th>\n",
       "      <td>Yamunotri Temple | Yamunotri, Uttarakhand</td>\n",
       "      <td>290.856707</td>\n",
       "    </tr>\n",
       "    <tr>\n",
       "      <th>8</th>\n",
       "      <td>Kedarnath Temple | Kedarnath, Uttarakhand</td>\n",
       "      <td>295.986734</td>\n",
       "    </tr>\n",
       "    <tr>\n",
       "      <th>9</th>\n",
       "      <td>Gangotri Temple | Gangotri, Uttarakhand</td>\n",
       "      <td>312.443007</td>\n",
       "    </tr>\n",
       "  </tbody>\n",
       "</table>\n",
       "</div>"
      ],
      "text/plain": [
       "                                          templeName  DistanceFromNewDelhi(Km)\n",
       "0                    ISKON Temple | New Delhi, Delhi                  0.000000\n",
       "1                    Birla Mandir | New Delhi, Delhi                  0.000000\n",
       "2               Akshardham Temple | New Delhi, Delhi                  0.000000\n",
       "3                    Lotus Temple | New Delhi, Delhi                  0.000000\n",
       "4               Har Ki Pauri | Haridwar, Uttarakhand                172.720329\n",
       "5  Neelkanth Mahadev Temple | Rishikesh, Uttarakhand                196.212348\n",
       "6          Naina Devi Temple | Nainital, Uttarakhand                227.940519\n",
       "7          Yamunotri Temple | Yamunotri, Uttarakhand                290.856707\n",
       "8          Kedarnath Temple | Kedarnath, Uttarakhand                295.986734\n",
       "9            Gangotri Temple | Gangotri, Uttarakhand                312.443007"
      ]
     },
     "execution_count": 19,
     "metadata": {},
     "output_type": "execute_result"
    }
   ],
   "source": [
    "temp('DistanceFromNewDelhi(Km)')"
   ]
  },
  {
   "cell_type": "markdown",
   "id": "731b7936",
   "metadata": {},
   "source": [
    "# top 10 nearest famous temples from Mumbai"
   ]
  },
  {
   "cell_type": "code",
   "execution_count": 20,
   "id": "8162c3c4",
   "metadata": {},
   "outputs": [
    {
     "data": {
      "text/html": [
       "<div>\n",
       "<style scoped>\n",
       "    .dataframe tbody tr th:only-of-type {\n",
       "        vertical-align: middle;\n",
       "    }\n",
       "\n",
       "    .dataframe tbody tr th {\n",
       "        vertical-align: top;\n",
       "    }\n",
       "\n",
       "    .dataframe thead th {\n",
       "        text-align: right;\n",
       "    }\n",
       "</style>\n",
       "<table border=\"1\" class=\"dataframe\">\n",
       "  <thead>\n",
       "    <tr style=\"text-align: right;\">\n",
       "      <th></th>\n",
       "      <th>templeName</th>\n",
       "      <th>DistanceFromMumbai(Km)</th>\n",
       "    </tr>\n",
       "  </thead>\n",
       "  <tbody>\n",
       "    <tr>\n",
       "      <th>0</th>\n",
       "      <td>Siddhi Vinayak Temple | Mumbai, Maharashtra</td>\n",
       "      <td>0.000000</td>\n",
       "    </tr>\n",
       "    <tr>\n",
       "      <th>1</th>\n",
       "      <td>Shirdi Sai Baba Temple | Shirdi, Maharashtra</td>\n",
       "      <td>184.432488</td>\n",
       "    </tr>\n",
       "    <tr>\n",
       "      <th>2</th>\n",
       "      <td>Shani Shingnapur | Ahmednagar, Maharashtra</td>\n",
       "      <td>208.615647</td>\n",
       "    </tr>\n",
       "    <tr>\n",
       "      <th>3</th>\n",
       "      <td>Somnath Temple | Junagadh, Gujarat</td>\n",
       "      <td>369.551338</td>\n",
       "    </tr>\n",
       "    <tr>\n",
       "      <th>4</th>\n",
       "      <td>Akshardham Temple | Gandhinagar, Gujarat</td>\n",
       "      <td>459.796830</td>\n",
       "    </tr>\n",
       "    <tr>\n",
       "      <th>5</th>\n",
       "      <td>Dwarkadhish Temple | Dwarka, Gujarat</td>\n",
       "      <td>537.226142</td>\n",
       "    </tr>\n",
       "    <tr>\n",
       "      <th>6</th>\n",
       "      <td>Jain Temple | Ranakpur, Rajasthan</td>\n",
       "      <td>550.464049</td>\n",
       "    </tr>\n",
       "    <tr>\n",
       "      <th>7</th>\n",
       "      <td>Vitthala Temple | Hampi, Karnataka</td>\n",
       "      <td>562.648882</td>\n",
       "    </tr>\n",
       "    <tr>\n",
       "      <th>8</th>\n",
       "      <td>Pattabhirama Temple | Hampi, Karnataka</td>\n",
       "      <td>562.648882</td>\n",
       "    </tr>\n",
       "    <tr>\n",
       "      <th>9</th>\n",
       "      <td>Virupaksha Temple | Hampi, Karnataka</td>\n",
       "      <td>562.648882</td>\n",
       "    </tr>\n",
       "  </tbody>\n",
       "</table>\n",
       "</div>"
      ],
      "text/plain": [
       "                                     templeName  DistanceFromMumbai(Km)\n",
       "0   Siddhi Vinayak Temple | Mumbai, Maharashtra                0.000000\n",
       "1  Shirdi Sai Baba Temple | Shirdi, Maharashtra              184.432488\n",
       "2    Shani Shingnapur | Ahmednagar, Maharashtra              208.615647\n",
       "3            Somnath Temple | Junagadh, Gujarat              369.551338\n",
       "4      Akshardham Temple | Gandhinagar, Gujarat              459.796830\n",
       "5          Dwarkadhish Temple | Dwarka, Gujarat              537.226142\n",
       "6             Jain Temple | Ranakpur, Rajasthan              550.464049\n",
       "7            Vitthala Temple | Hampi, Karnataka              562.648882\n",
       "8        Pattabhirama Temple | Hampi, Karnataka              562.648882\n",
       "9          Virupaksha Temple | Hampi, Karnataka              562.648882"
      ]
     },
     "execution_count": 20,
     "metadata": {},
     "output_type": "execute_result"
    }
   ],
   "source": [
    "temp('DistanceFromMumbai(Km)')"
   ]
  },
  {
   "cell_type": "markdown",
   "id": "eed0f03d",
   "metadata": {},
   "source": [
    "# top 10 nearest famous temples from Chennai"
   ]
  },
  {
   "cell_type": "code",
   "execution_count": 21,
   "id": "2f43d6c6",
   "metadata": {},
   "outputs": [
    {
     "data": {
      "text/html": [
       "<div>\n",
       "<style scoped>\n",
       "    .dataframe tbody tr th:only-of-type {\n",
       "        vertical-align: middle;\n",
       "    }\n",
       "\n",
       "    .dataframe tbody tr th {\n",
       "        vertical-align: top;\n",
       "    }\n",
       "\n",
       "    .dataframe thead th {\n",
       "        text-align: right;\n",
       "    }\n",
       "</style>\n",
       "<table border=\"1\" class=\"dataframe\">\n",
       "  <thead>\n",
       "    <tr style=\"text-align: right;\">\n",
       "      <th></th>\n",
       "      <th>templeName</th>\n",
       "      <th>DistanceFromChennai(Km)</th>\n",
       "    </tr>\n",
       "  </thead>\n",
       "  <tbody>\n",
       "    <tr>\n",
       "      <th>0</th>\n",
       "      <td>Shore Temple | Mahabalipuram, Tamil Nadu</td>\n",
       "      <td>52.010385</td>\n",
       "    </tr>\n",
       "    <tr>\n",
       "      <th>1</th>\n",
       "      <td>Kailashanatha Temple | Kanchipuram, Tamil Nadu</td>\n",
       "      <td>67.117235</td>\n",
       "    </tr>\n",
       "    <tr>\n",
       "      <th>2</th>\n",
       "      <td>Tirupati Temple (Tirumala Venkateshwara) | Tir...</td>\n",
       "      <td>119.519574</td>\n",
       "    </tr>\n",
       "    <tr>\n",
       "      <th>3</th>\n",
       "      <td>Sripuram Golden Temple | Vellore, Tamil Nadu</td>\n",
       "      <td>141.417934</td>\n",
       "    </tr>\n",
       "    <tr>\n",
       "      <th>4</th>\n",
       "      <td>Thillai Nataraja Temple | Chidambaram, Tamil Nadu</td>\n",
       "      <td>196.229639</td>\n",
       "    </tr>\n",
       "    <tr>\n",
       "      <th>5</th>\n",
       "      <td>Brihadeshwara Temple | Thanjavur, Tamil Nadu</td>\n",
       "      <td>282.501204</td>\n",
       "    </tr>\n",
       "    <tr>\n",
       "      <th>6</th>\n",
       "      <td>Ranganathaswamy Temple | Srirangam, Tamil Nadu</td>\n",
       "      <td>311.612450</td>\n",
       "    </tr>\n",
       "    <tr>\n",
       "      <th>7</th>\n",
       "      <td>Chamundeshwari Temple | Mysore, Karnataka</td>\n",
       "      <td>401.956211</td>\n",
       "    </tr>\n",
       "    <tr>\n",
       "      <th>8</th>\n",
       "      <td>Meenakshi Temple | Madurai, Tamil Nadu</td>\n",
       "      <td>421.088784</td>\n",
       "    </tr>\n",
       "    <tr>\n",
       "      <th>9</th>\n",
       "      <td>Ramanathaswamy Temple | Rameshwaram, Tamil Nadu</td>\n",
       "      <td>433.071552</td>\n",
       "    </tr>\n",
       "  </tbody>\n",
       "</table>\n",
       "</div>"
      ],
      "text/plain": [
       "                                          templeName  DistanceFromChennai(Km)\n",
       "0           Shore Temple | Mahabalipuram, Tamil Nadu                52.010385\n",
       "1     Kailashanatha Temple | Kanchipuram, Tamil Nadu                67.117235\n",
       "2  Tirupati Temple (Tirumala Venkateshwara) | Tir...               119.519574\n",
       "3       Sripuram Golden Temple | Vellore, Tamil Nadu               141.417934\n",
       "4  Thillai Nataraja Temple | Chidambaram, Tamil Nadu               196.229639\n",
       "5       Brihadeshwara Temple | Thanjavur, Tamil Nadu               282.501204\n",
       "6     Ranganathaswamy Temple | Srirangam, Tamil Nadu               311.612450\n",
       "7          Chamundeshwari Temple | Mysore, Karnataka               401.956211\n",
       "8             Meenakshi Temple | Madurai, Tamil Nadu               421.088784\n",
       "9    Ramanathaswamy Temple | Rameshwaram, Tamil Nadu               433.071552"
      ]
     },
     "execution_count": 21,
     "metadata": {},
     "output_type": "execute_result"
    }
   ],
   "source": [
    "temp('DistanceFromChennai(Km)')"
   ]
  },
  {
   "cell_type": "markdown",
   "id": "4dac9624",
   "metadata": {},
   "source": [
    "# top 10 nearest famous temples from Kolkata"
   ]
  },
  {
   "cell_type": "code",
   "execution_count": 22,
   "id": "aec9c6c5",
   "metadata": {},
   "outputs": [
    {
     "data": {
      "text/html": [
       "<div>\n",
       "<style scoped>\n",
       "    .dataframe tbody tr th:only-of-type {\n",
       "        vertical-align: middle;\n",
       "    }\n",
       "\n",
       "    .dataframe tbody tr th {\n",
       "        vertical-align: top;\n",
       "    }\n",
       "\n",
       "    .dataframe thead th {\n",
       "        text-align: right;\n",
       "    }\n",
       "</style>\n",
       "<table border=\"1\" class=\"dataframe\">\n",
       "  <thead>\n",
       "    <tr style=\"text-align: right;\">\n",
       "      <th></th>\n",
       "      <th>templeName</th>\n",
       "      <th>DistanceFromKolkata(Km)</th>\n",
       "    </tr>\n",
       "  </thead>\n",
       "  <tbody>\n",
       "    <tr>\n",
       "      <th>0</th>\n",
       "      <td>Kalighat Kali Temple | Kolkata, West Bengal</td>\n",
       "      <td>0.000000</td>\n",
       "    </tr>\n",
       "    <tr>\n",
       "      <th>1</th>\n",
       "      <td>Dakshineswar Kali Temple | Kolkata, West Bengal</td>\n",
       "      <td>0.000000</td>\n",
       "    </tr>\n",
       "    <tr>\n",
       "      <th>2</th>\n",
       "      <td>Chennakesava Temple | Belur, Karnataka</td>\n",
       "      <td>10.604555</td>\n",
       "    </tr>\n",
       "    <tr>\n",
       "      <th>3</th>\n",
       "      <td>Mukteswar Temple | Bhubaneshwar, Orissa</td>\n",
       "      <td>363.262575</td>\n",
       "    </tr>\n",
       "    <tr>\n",
       "      <th>4</th>\n",
       "      <td>Lingaraj Temple | Bhubaneshwar, Orissa</td>\n",
       "      <td>363.262575</td>\n",
       "    </tr>\n",
       "    <tr>\n",
       "      <th>5</th>\n",
       "      <td>Rajarani Temple | Bhubaneshwar, Orissa</td>\n",
       "      <td>363.262575</td>\n",
       "    </tr>\n",
       "    <tr>\n",
       "      <th>6</th>\n",
       "      <td>Jagannath Temple | Puri, Orissa</td>\n",
       "      <td>400.952315</td>\n",
       "    </tr>\n",
       "    <tr>\n",
       "      <th>7</th>\n",
       "      <td>Kamakhya Temple | Guwahati, Assam</td>\n",
       "      <td>530.247295</td>\n",
       "    </tr>\n",
       "    <tr>\n",
       "      <th>8</th>\n",
       "      <td>Kashi Vishwanath Temple | Varanasi, Uttar Pradesh</td>\n",
       "      <td>626.321884</td>\n",
       "    </tr>\n",
       "    <tr>\n",
       "      <th>9</th>\n",
       "      <td>Khajuraho Temples | Khajuraho, Madhya Pradesh</td>\n",
       "      <td>896.987576</td>\n",
       "    </tr>\n",
       "  </tbody>\n",
       "</table>\n",
       "</div>"
      ],
      "text/plain": [
       "                                          templeName  DistanceFromKolkata(Km)\n",
       "0        Kalighat Kali Temple | Kolkata, West Bengal                 0.000000\n",
       "1    Dakshineswar Kali Temple | Kolkata, West Bengal                 0.000000\n",
       "2             Chennakesava Temple | Belur, Karnataka                10.604555\n",
       "3            Mukteswar Temple | Bhubaneshwar, Orissa               363.262575\n",
       "4             Lingaraj Temple | Bhubaneshwar, Orissa               363.262575\n",
       "5             Rajarani Temple | Bhubaneshwar, Orissa               363.262575\n",
       "6                    Jagannath Temple | Puri, Orissa               400.952315\n",
       "7                  Kamakhya Temple | Guwahati, Assam               530.247295\n",
       "8  Kashi Vishwanath Temple | Varanasi, Uttar Pradesh               626.321884\n",
       "9      Khajuraho Temples | Khajuraho, Madhya Pradesh               896.987576"
      ]
     },
     "execution_count": 22,
     "metadata": {},
     "output_type": "execute_result"
    }
   ],
   "source": [
    "temp('DistanceFromKolkata(Km)')"
   ]
  },
  {
   "cell_type": "code",
   "execution_count": null,
   "id": "e7d0eb4e",
   "metadata": {},
   "outputs": [],
   "source": []
  }
 ],
 "metadata": {
  "kernelspec": {
   "display_name": "Python 3 (ipykernel)",
   "language": "python",
   "name": "python3"
  },
  "language_info": {
   "codemirror_mode": {
    "name": "ipython",
    "version": 3
   },
   "file_extension": ".py",
   "mimetype": "text/x-python",
   "name": "python",
   "nbconvert_exporter": "python",
   "pygments_lexer": "ipython3",
   "version": "3.9.7"
  },
  "varInspector": {
   "cols": {
    "lenName": 16,
    "lenType": 16,
    "lenVar": 40
   },
   "kernels_config": {
    "python": {
     "delete_cmd_postfix": "",
     "delete_cmd_prefix": "del ",
     "library": "var_list.py",
     "varRefreshCmd": "print(var_dic_list())"
    },
    "r": {
     "delete_cmd_postfix": ") ",
     "delete_cmd_prefix": "rm(",
     "library": "var_list.r",
     "varRefreshCmd": "cat(var_dic_list()) "
    }
   },
   "types_to_exclude": [
    "module",
    "function",
    "builtin_function_or_method",
    "instance",
    "_Feature"
   ],
   "window_display": false
  }
 },
 "nbformat": 4,
 "nbformat_minor": 5
}
